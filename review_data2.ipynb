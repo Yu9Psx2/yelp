{
 "cells": [
  {
   "cell_type": "markdown",
   "metadata": {},
   "source": [
    "## Notebook is aiming to create a list of restaurants that have 5 or more reviews\n",
    "## Notebook also labels individual reviews that are very low compared to the restaurant's average"
   ]
  },
  {
   "cell_type": "code",
   "execution_count": null,
   "metadata": {},
   "outputs": [],
   "source": [
    "#import a bunch of libraries at the very start of the project, will modify as things go on\n",
    "import os\n",
    "import pandas as pd\n",
    "from dotenv import load_dotenv\n",
    "import nltk as nltk\n",
    "nltk.download('vader_lexicon')\n",
    "from nltk.sentiment.vader import SentimentIntensityAnalyzer\n",
    "from nltk.tokenize import word_tokenize, sent_tokenize\n",
    "from nltk.corpus import stopwords\n",
    "from nltk.stem import WordNetLemmatizer, PorterStemmer\n",
    "from string import punctuation\n",
    "import re\n",
    "from collections import Counter\n",
    "from nltk import ngrams\n",
    "from wordcloud import WordCloud\n",
    "import matplotlib as mpl\n",
    "import matplotlib.pyplot as plt\n",
    "import spacy\n",
    "from spacy import displacy\n",
    "import json\n",
    "\n",
    "%matplotlib inline\n",
    "# Create a flag to use to run read_json or to load the DF from file.\n",
    "loader = True\n",
    "\n",
    "analyzer = SentimentIntensityAnalyzer()"
   ]
  },
  {
   "cell_type": "code",
   "execution_count": null,
   "metadata": {},
   "outputs": [],
   "source": [
    "# Go through Json file and create output file if flag is False.\n",
    "if loader == False:\n",
    "    path_business = r\"D:\\yelp_data\\yelp_academic_dataset_business.json\"\n",
    "    # business_df = pd.read_json(path_business)\n",
    "    # business_df.head()\n",
    "    #Load in the Yelp overview of the businesses in the dataset\n",
    "    data_business = open(path_business)\n",
    "    read_data_business = data_business.read()\n",
    "    business_df = pd.read_json(read_data_business, lines = True)\n",
    "    business_df.head()\n",
    "    #Create a column to indicate whether or not a business is a restaurant\n",
    "    #business_df['restaurant_marker'] = business_df.apply(lambda x: 1 if 'Restaurants' in x['categories']  else 0,axis = 1)\n",
    "    business_df.dropna(inplace=True)\n",
    "    business_df['restaurant_marker'] = business_df.apply(lambda x: 1 if (\"Restaurants\" in x['categories'])  else 0,axis = 1)\n",
    "    business_df = business_df[business_df['restaurant_marker'] == 1]\n",
    "    business_df.head()\n",
    "    #Create a set of those businesses that are restaurants\n",
    "    business_list = set(business_df.business_id.unique())\n",
    "    print(business_df.shape)\n",
    "    path_review = r\"D:\\yelp_data\\yelp_academic_dataset_review.json\"\n",
    "    column_names = {\"user_id\":'',\"stars\":int(),\"text\":'',\"business_id\":''}\n",
    "    review_df = pd.DataFrame(column_names, index = [])\n",
    "    review_df[\"stars\"] = review_df[\"stars\"].astype(\"int8\")\n",
    "    #Load in the reviews dataset, identifying whether or not a review is for a restaurant\n",
    "    review_holder = pd.read_json(path_review,lines = True, orient =\"records\",chunksize=100000) #, nrows = 4000000\n",
    "    for i in review_holder:\n",
    "        i = i[[\"user_id\",\"stars\",\"text\",\"business_id\"]]\n",
    "        i.dropna(inplace=True)\n",
    "        i['restaurant_marker'] = business_df.apply(lambda x: 1 if (x['business_id'] in business_list)  else 0,axis = 1)\n",
    "        i = i[i['restaurant_marker'] == 1]\n",
    "        i[\"stars\"] = i[\"stars\"].astype(\"int8\")\n",
    "        review_df = review_df.append(i, ignore_index = True)\n",
    "    review_df.shape\n",
    "    review_df.head()\n",
    "    #Count the number of reviews left for each restaurant, limit to those with more than 5 reviews\n",
    "    counts = review_df[\"business_id\"].value_counts()\n",
    "    counts = counts[counts > 5]\n",
    "    counts\n",
    "    review_df['five_plus'] = review_df.apply(lambda x: 1 if (x['business_id'] in counts.index)  else 0,axis = 1)\n",
    "    #Keep only those restaurants with 5 or more reviews\n",
    "    review_df = review_df[review_df['five_plus'] == 1]\n",
    "    review_df.drop(['restaurant_marker', 'five_plus'],axis = 1, inplace = True)\n",
    "    #Merge the reviews with the business DF\n",
    "    review_df = pd.merge(review_df,business_df, on = 'business_id')\n",
    "    #review_df.head()\n",
    "    #business_df.head()\n",
    "    #Drop un-needed columns\n",
    "    review_df.drop(['address', 'city','state','postal_code','latitude','longitude','is_open','attributes','categories','hours','restaurant_marker'],axis = 1, inplace = True)\n",
    "    review_df.head()\n",
    "    #Save this review DF\n",
    "    review_df.to_feather('formatted_reviews.ftr')\n"
   ]
  },
  {
   "cell_type": "code",
   "execution_count": null,
   "metadata": {},
   "outputs": [],
   "source": [
    "# Load previously created file if flag is true\n",
    "if loader == True:\n",
    "    second_df = pd.read_feather('formatted_reviews.ftr')"
   ]
  },
  {
   "cell_type": "code",
   "execution_count": null,
   "metadata": {},
   "outputs": [],
   "source": [
    "#Label those reviews that are 3 or more stars less than the restaurant's average\n",
    "second_df['label'] = second_df.apply(lambda x: 1 if x['stars_y'] - x['stars_x'] >= 3 else 0,  axis = 1)\n",
    "second_df.head()\n",
    "second_df.shape"
   ]
  },
  {
   "cell_type": "code",
   "execution_count": null,
   "metadata": {},
   "outputs": [],
   "source": [
    "second_df.tail()"
   ]
  },
  {
   "cell_type": "code",
   "execution_count": null,
   "metadata": {},
   "outputs": [],
   "source": [
    "second_df['label'].value_counts()"
   ]
  }
 ],
 "metadata": {
  "interpreter": {
   "hash": "c0dc138e65a70cb647ce1a270252e71b4bdb55bc5aa19cfa73732b492b7cbef2"
  },
  "kernelspec": {
   "display_name": "Python 3.8.8 ('base')",
   "language": "python",
   "name": "python3"
  },
  "language_info": {
   "codemirror_mode": {
    "name": "ipython",
    "version": 3
   },
   "file_extension": ".py",
   "mimetype": "text/x-python",
   "name": "python",
   "nbconvert_exporter": "python",
   "pygments_lexer": "ipython3",
   "version": "3.8.8"
  },
  "orig_nbformat": 4
 },
 "nbformat": 4,
 "nbformat_minor": 2
}
