{
 "cells": [
  {
   "cell_type": "markdown",
   "metadata": {},
   "source": [
    "## Notebook is aiming to create a list of restaurants that have 5 or more reviews\n",
    "## Notebook also labels individual reviews that are very low compared to the restaurant's average"
   ]
  },
  {
   "cell_type": "code",
   "execution_count": 1,
   "metadata": {},
   "outputs": [
    {
     "name": "stderr",
     "output_type": "stream",
     "text": [
      "[nltk_data] Downloading package vader_lexicon to\n",
      "[nltk_data]     C:\\Users\\trevo\\AppData\\Roaming\\nltk_data...\n",
      "[nltk_data]   Package vader_lexicon is already up-to-date!\n"
     ]
    }
   ],
   "source": [
    "#import a bunch of libraries at the very start of the project, will modify as things go on\n",
    "import os\n",
    "import pandas as pd\n",
    "from dotenv import load_dotenv\n",
    "import nltk as nltk\n",
    "nltk.download('vader_lexicon')\n",
    "from nltk.sentiment.vader import SentimentIntensityAnalyzer\n",
    "from nltk.tokenize import word_tokenize, sent_tokenize\n",
    "from nltk.corpus import stopwords\n",
    "from nltk.stem import WordNetLemmatizer, PorterStemmer\n",
    "from string import punctuation\n",
    "import re\n",
    "from collections import Counter\n",
    "from nltk import ngrams\n",
    "from wordcloud import WordCloud\n",
    "import matplotlib as mpl\n",
    "import matplotlib.pyplot as plt\n",
    "import spacy\n",
    "from spacy import displacy\n",
    "import json\n",
    "from nltk.corpus import stopwords\n",
    "from sklearn.feature_extraction.text import CountVectorizer\n",
    "from sklearn.feature_extraction.text import TfidfVectorizer\n",
    "import re\n",
    "\n",
    "%matplotlib inline\n",
    "# Create a flag to use to run read_json or to load the DF from file.\n",
    "loader = True\n",
    "\n",
    "#Load analyzer if needed\n",
    "#analyzer = SentimentIntensityAnalyzer()"
   ]
  },
  {
   "cell_type": "code",
   "execution_count": 2,
   "metadata": {},
   "outputs": [],
   "source": [
    "# Go through Json file and create output file if flag is False.\n",
    "if loader == False:\n",
    "    path_business = r\"D:\\yelp_data\\yelp_academic_dataset_business.json\"\n",
    "    # business_df = pd.read_json(path_business)\n",
    "    # business_df.head()\n",
    "    #Load in the Yelp overview of the businesses in the dataset\n",
    "    data_business = open(path_business)\n",
    "    read_data_business = data_business.read()\n",
    "    business_df = pd.read_json(read_data_business, lines = True)\n",
    "    business_df.head()\n",
    "    #Create a column to indicate whether or not a business is a restaurant\n",
    "    #business_df['restaurant_marker'] = business_df.apply(lambda x: 1 if 'Restaurants' in x['categories']  else 0,axis = 1)\n",
    "    business_df.dropna(inplace=True)\n",
    "    business_df['restaurant_marker'] = business_df.apply(lambda x: 1 if (\"Restaurants\" in x['categories'])  else 0,axis = 1)\n",
    "    business_df = business_df[business_df['restaurant_marker'] == 1]\n",
    "    business_df.head()\n",
    "    #Create a set of those businesses that are restaurants\n",
    "    business_list = set(business_df.business_id.unique())\n",
    "    print(business_df.shape)\n",
    "    path_review = r\"D:\\yelp_data\\yelp_academic_dataset_review.json\"\n",
    "    column_names = {\"user_id\":'',\"stars\":int(),\"text\":'',\"business_id\":''}\n",
    "    review_df = pd.DataFrame(column_names, index = [])\n",
    "    review_df[\"stars\"] = review_df[\"stars\"].astype(\"int8\")\n",
    "    #Load in the reviews dataset, identifying whether or not a review is for a restaurant\n",
    "    review_holder = pd.read_json(path_review,lines = True, orient =\"records\",chunksize=100000) #, nrows = 4000000\n",
    "    for i in review_holder:\n",
    "        i = i[[\"user_id\",\"stars\",\"text\",\"business_id\"]]\n",
    "        i.dropna(inplace=True)\n",
    "        i['restaurant_marker'] = business_df.apply(lambda x: 1 if (x['business_id'] in business_list)  else 0,axis = 1)\n",
    "        i = i[i['restaurant_marker'] == 1]\n",
    "        i[\"stars\"] = i[\"stars\"].astype(\"int8\")\n",
    "        review_df = review_df.append(i, ignore_index = True)\n",
    "    review_df.shape\n",
    "    review_df.head()\n",
    "    #Count the number of reviews left for each restaurant, limit to those with more than 5 reviews\n",
    "    counts = review_df[\"business_id\"].value_counts()\n",
    "    counts = counts[counts > 5]\n",
    "    counts\n",
    "    review_df['five_plus'] = review_df.apply(lambda x: 1 if (x['business_id'] in counts.index)  else 0,axis = 1)\n",
    "    #Keep only those restaurants with 5 or more reviews\n",
    "    review_df = review_df[review_df['five_plus'] == 1]\n",
    "    review_df.drop(['restaurant_marker', 'five_plus'],axis = 1, inplace = True)\n",
    "    #Merge the reviews with the business DF\n",
    "    review_df = pd.merge(review_df,business_df, on = 'business_id')\n",
    "    #review_df.head()\n",
    "    #business_df.head()\n",
    "    #Drop un-needed columns\n",
    "    review_df.drop(['address', 'city','state','postal_code','latitude','longitude','is_open','attributes','categories','hours','restaurant_marker'],axis = 1, inplace = True)\n",
    "    review_df.head()\n",
    "    #Save this review DF\n",
    "    review_df.to_feather('formatted_reviews.ftr')\n"
   ]
  },
  {
   "cell_type": "code",
   "execution_count": 3,
   "metadata": {},
   "outputs": [],
   "source": [
    "# Load previously created file if flag is true\n",
    "if loader == True:\n",
    "    second_df = pd.read_feather('formatted_reviews.ftr')"
   ]
  },
  {
   "cell_type": "code",
   "execution_count": 4,
   "metadata": {},
   "outputs": [
    {
     "data": {
      "text/plain": [
       "(23826, 8)"
      ]
     },
     "execution_count": 4,
     "metadata": {},
     "output_type": "execute_result"
    }
   ],
   "source": [
    "#Label those reviews that are 3 or more stars less than the restaurant's average\n",
    "second_df['label'] = second_df.apply(lambda x: 1 if x['stars_y'] - x['stars_x'] >= 3 else 0,  axis = 1)\n",
    "second_df.head()\n",
    "second_df.shape"
   ]
  },
  {
   "cell_type": "code",
   "execution_count": 5,
   "metadata": {},
   "outputs": [
    {
     "data": {
      "text/html": [
       "<div>\n",
       "<style scoped>\n",
       "    .dataframe tbody tr th:only-of-type {\n",
       "        vertical-align: middle;\n",
       "    }\n",
       "\n",
       "    .dataframe tbody tr th {\n",
       "        vertical-align: top;\n",
       "    }\n",
       "\n",
       "    .dataframe thead th {\n",
       "        text-align: right;\n",
       "    }\n",
       "</style>\n",
       "<table border=\"1\" class=\"dataframe\">\n",
       "  <thead>\n",
       "    <tr style=\"text-align: right;\">\n",
       "      <th></th>\n",
       "      <th>user_id</th>\n",
       "      <th>stars_x</th>\n",
       "      <th>text</th>\n",
       "      <th>business_id</th>\n",
       "      <th>name</th>\n",
       "      <th>stars_y</th>\n",
       "      <th>review_count</th>\n",
       "      <th>label</th>\n",
       "    </tr>\n",
       "  </thead>\n",
       "  <tbody>\n",
       "    <tr>\n",
       "      <th>23821</th>\n",
       "      <td>i0jnz-ODkqqqmcxU-166nw</td>\n",
       "      <td>5</td>\n",
       "      <td>I went here today at 6pm not expecting many pi...</td>\n",
       "      <td>06T7cI-8vpENSHmPfm3H8w</td>\n",
       "      <td>The Pie Hole</td>\n",
       "      <td>4.0</td>\n",
       "      <td>109</td>\n",
       "      <td>0</td>\n",
       "    </tr>\n",
       "    <tr>\n",
       "      <th>23822</th>\n",
       "      <td>4AFrxm9c1j20ybQ9-stx6w</td>\n",
       "      <td>1</td>\n",
       "      <td>I really, really, really wanted to like this p...</td>\n",
       "      <td>06T7cI-8vpENSHmPfm3H8w</td>\n",
       "      <td>The Pie Hole</td>\n",
       "      <td>4.0</td>\n",
       "      <td>109</td>\n",
       "      <td>1</td>\n",
       "    </tr>\n",
       "    <tr>\n",
       "      <th>23823</th>\n",
       "      <td>0YCQvW-XjgHiV_nNymlC7A</td>\n",
       "      <td>3</td>\n",
       "      <td>Bought a 9 inch raspberry cream pie.\\n\\nIt was...</td>\n",
       "      <td>06T7cI-8vpENSHmPfm3H8w</td>\n",
       "      <td>The Pie Hole</td>\n",
       "      <td>4.0</td>\n",
       "      <td>109</td>\n",
       "      <td>0</td>\n",
       "    </tr>\n",
       "    <tr>\n",
       "      <th>23824</th>\n",
       "      <td>V2OZsbSi9zgTAKpjY5bXSQ</td>\n",
       "      <td>2</td>\n",
       "      <td>Being a Burnaby resident, I was so excited to ...</td>\n",
       "      <td>06T7cI-8vpENSHmPfm3H8w</td>\n",
       "      <td>The Pie Hole</td>\n",
       "      <td>4.0</td>\n",
       "      <td>109</td>\n",
       "      <td>0</td>\n",
       "    </tr>\n",
       "    <tr>\n",
       "      <th>23825</th>\n",
       "      <td>jIZNiaRnLYCCqn-PA2b7lA</td>\n",
       "      <td>5</td>\n",
       "      <td>I have been eating these pies for about 2 year...</td>\n",
       "      <td>06T7cI-8vpENSHmPfm3H8w</td>\n",
       "      <td>The Pie Hole</td>\n",
       "      <td>4.0</td>\n",
       "      <td>109</td>\n",
       "      <td>0</td>\n",
       "    </tr>\n",
       "  </tbody>\n",
       "</table>\n",
       "</div>"
      ],
      "text/plain": [
       "                      user_id  stars_x  \\\n",
       "23821  i0jnz-ODkqqqmcxU-166nw        5   \n",
       "23822  4AFrxm9c1j20ybQ9-stx6w        1   \n",
       "23823  0YCQvW-XjgHiV_nNymlC7A        3   \n",
       "23824  V2OZsbSi9zgTAKpjY5bXSQ        2   \n",
       "23825  jIZNiaRnLYCCqn-PA2b7lA        5   \n",
       "\n",
       "                                                    text  \\\n",
       "23821  I went here today at 6pm not expecting many pi...   \n",
       "23822  I really, really, really wanted to like this p...   \n",
       "23823  Bought a 9 inch raspberry cream pie.\\n\\nIt was...   \n",
       "23824  Being a Burnaby resident, I was so excited to ...   \n",
       "23825  I have been eating these pies for about 2 year...   \n",
       "\n",
       "                  business_id          name  stars_y  review_count  label  \n",
       "23821  06T7cI-8vpENSHmPfm3H8w  The Pie Hole      4.0           109      0  \n",
       "23822  06T7cI-8vpENSHmPfm3H8w  The Pie Hole      4.0           109      1  \n",
       "23823  06T7cI-8vpENSHmPfm3H8w  The Pie Hole      4.0           109      0  \n",
       "23824  06T7cI-8vpENSHmPfm3H8w  The Pie Hole      4.0           109      0  \n",
       "23825  06T7cI-8vpENSHmPfm3H8w  The Pie Hole      4.0           109      0  "
      ]
     },
     "execution_count": 5,
     "metadata": {},
     "output_type": "execute_result"
    }
   ],
   "source": [
    "second_df.tail()"
   ]
  },
  {
   "cell_type": "code",
   "execution_count": 6,
   "metadata": {},
   "outputs": [
    {
     "data": {
      "text/plain": [
       "0    23134\n",
       "1      692\n",
       "Name: label, dtype: int64"
      ]
     },
     "execution_count": 6,
     "metadata": {},
     "output_type": "execute_result"
    }
   ],
   "source": [
    "second_df['label'].value_counts()"
   ]
  },
  {
   "cell_type": "markdown",
   "metadata": {},
   "source": [
    "# Now that the dataframe is created, it can be prepared for machine learning"
   ]
  },
  {
   "cell_type": "code",
   "execution_count": 7,
   "metadata": {},
   "outputs": [
    {
     "data": {
      "text/html": [
       "<div>\n",
       "<style scoped>\n",
       "    .dataframe tbody tr th:only-of-type {\n",
       "        vertical-align: middle;\n",
       "    }\n",
       "\n",
       "    .dataframe tbody tr th {\n",
       "        vertical-align: top;\n",
       "    }\n",
       "\n",
       "    .dataframe thead th {\n",
       "        text-align: right;\n",
       "    }\n",
       "</style>\n",
       "<table border=\"1\" class=\"dataframe\">\n",
       "  <thead>\n",
       "    <tr style=\"text-align: right;\">\n",
       "      <th></th>\n",
       "      <th>text</th>\n",
       "      <th>label</th>\n",
       "    </tr>\n",
       "  </thead>\n",
       "  <tbody>\n",
       "    <tr>\n",
       "      <th>0</th>\n",
       "      <td>Apparently Prides Osteria had a rough summer a...</td>\n",
       "      <td>0</td>\n",
       "    </tr>\n",
       "    <tr>\n",
       "      <th>1</th>\n",
       "      <td>This is as close to dining in Italy as you'll ...</td>\n",
       "      <td>0</td>\n",
       "    </tr>\n",
       "    <tr>\n",
       "      <th>2</th>\n",
       "      <td>A gem tucked away in Beverly. The atmosphere i...</td>\n",
       "      <td>0</td>\n",
       "    </tr>\n",
       "    <tr>\n",
       "      <th>3</th>\n",
       "      <td>The food is excellent, although the wait for a...</td>\n",
       "      <td>0</td>\n",
       "    </tr>\n",
       "    <tr>\n",
       "      <th>4</th>\n",
       "      <td>Meh. Just wasn't comfortable with the minimali...</td>\n",
       "      <td>0</td>\n",
       "    </tr>\n",
       "  </tbody>\n",
       "</table>\n",
       "</div>"
      ],
      "text/plain": [
       "                                                text  label\n",
       "0  Apparently Prides Osteria had a rough summer a...      0\n",
       "1  This is as close to dining in Italy as you'll ...      0\n",
       "2  A gem tucked away in Beverly. The atmosphere i...      0\n",
       "3  The food is excellent, although the wait for a...      0\n",
       "4  Meh. Just wasn't comfortable with the minimali...      0"
      ]
     },
     "execution_count": 7,
     "metadata": {},
     "output_type": "execute_result"
    }
   ],
   "source": [
    "working_df = second_df[['text','label']]\n",
    "working_df.head()"
   ]
  },
  {
   "cell_type": "code",
   "execution_count": 8,
   "metadata": {},
   "outputs": [
    {
     "name": "stderr",
     "output_type": "stream",
     "text": [
      "C:\\Users\\trevo\\AppData\\Local\\Temp/ipykernel_15632/1192245473.py:14: SettingWithCopyWarning: \n",
      "A value is trying to be set on a copy of a slice from a DataFrame.\n",
      "Try using .loc[row_indexer,col_indexer] = value instead\n",
      "\n",
      "See the caveats in the documentation: https://pandas.pydata.org/pandas-docs/stable/user_guide/indexing.html#returning-a-view-versus-a-copy\n",
      "  working_df['text'] = working_df['text'].apply(lambda x: modify_text(x,stop_list))\n"
     ]
    },
    {
     "data": {
      "text/html": [
       "<div>\n",
       "<style scoped>\n",
       "    .dataframe tbody tr th:only-of-type {\n",
       "        vertical-align: middle;\n",
       "    }\n",
       "\n",
       "    .dataframe tbody tr th {\n",
       "        vertical-align: top;\n",
       "    }\n",
       "\n",
       "    .dataframe thead th {\n",
       "        text-align: right;\n",
       "    }\n",
       "</style>\n",
       "<table border=\"1\" class=\"dataframe\">\n",
       "  <thead>\n",
       "    <tr style=\"text-align: right;\">\n",
       "      <th></th>\n",
       "      <th>text</th>\n",
       "      <th>label</th>\n",
       "    </tr>\n",
       "  </thead>\n",
       "  <tbody>\n",
       "    <tr>\n",
       "      <th>0</th>\n",
       "      <td>apparently prides osteria rough summer evidenc...</td>\n",
       "      <td>0</td>\n",
       "    </tr>\n",
       "    <tr>\n",
       "      <th>1</th>\n",
       "      <td>close dining italy youll find new englandchef ...</td>\n",
       "      <td>0</td>\n",
       "    </tr>\n",
       "    <tr>\n",
       "      <th>2</th>\n",
       "      <td>gem tucked away beverly atmosphere charming se...</td>\n",
       "      <td>0</td>\n",
       "    </tr>\n",
       "    <tr>\n",
       "      <th>3</th>\n",
       "      <td>food excellent although wait table took long e...</td>\n",
       "      <td>0</td>\n",
       "    </tr>\n",
       "    <tr>\n",
       "      <th>4</th>\n",
       "      <td>meh wasnt comfortable minimalist read cold vib...</td>\n",
       "      <td>0</td>\n",
       "    </tr>\n",
       "  </tbody>\n",
       "</table>\n",
       "</div>"
      ],
      "text/plain": [
       "                                                text  label\n",
       "0  apparently prides osteria rough summer evidenc...      0\n",
       "1  close dining italy youll find new englandchef ...      0\n",
       "2  gem tucked away beverly atmosphere charming se...      0\n",
       "3  food excellent although wait table took long e...      0\n",
       "4  meh wasnt comfortable minimalist read cold vib...      0"
      ]
     },
     "execution_count": 8,
     "metadata": {},
     "output_type": "execute_result"
    }
   ],
   "source": [
    "#Remove stop words from the working_df\n",
    "stop_list = set(stopwords.words(\"english\"))\n",
    "def modify_text(review, stop_list):\n",
    "    review = re.sub(r'\\n+', ' ', review)\n",
    "    review = re.sub(r'[^A-Za-z0-9 ]+', '', review)\n",
    "    return_words = review.split(\" \")\n",
    "    return_list = []\n",
    "    for i in return_words:\n",
    "\n",
    "        i = i.lower()\n",
    "        if not i in stop_list:\n",
    "            return_list.append(i)\n",
    "    return \" \".join(return_list)\n",
    "#print(modify_text(\"This is as close to dining in Italy as you'll\",stop_list))\n",
    "working_df['text'] = working_df['text'].apply(lambda x: modify_text(x,stop_list))\n",
    "working_df.head()"
   ]
  },
  {
   "cell_type": "code",
   "execution_count": 9,
   "metadata": {},
   "outputs": [],
   "source": [
    "#\n",
    "counter = CountVectorizer(analyzer = \"word\", tokenizer = None, preprocessor= None, stop_words = None, max_features = 5000)\n",
    "\n"
   ]
  }
 ],
 "metadata": {
  "interpreter": {
   "hash": "c0dc138e65a70cb647ce1a270252e71b4bdb55bc5aa19cfa73732b492b7cbef2"
  },
  "kernelspec": {
   "display_name": "Python 3.8.8 ('base')",
   "language": "python",
   "name": "python3"
  },
  "language_info": {
   "codemirror_mode": {
    "name": "ipython",
    "version": 3
   },
   "file_extension": ".py",
   "mimetype": "text/x-python",
   "name": "python",
   "nbconvert_exporter": "python",
   "pygments_lexer": "ipython3",
   "version": "3.8.8"
  },
  "orig_nbformat": 4
 },
 "nbformat": 4,
 "nbformat_minor": 2
}
