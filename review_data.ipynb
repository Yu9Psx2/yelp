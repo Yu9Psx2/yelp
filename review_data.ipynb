{
 "cells": [
  {
   "cell_type": "code",
   "execution_count": 1,
   "metadata": {},
   "outputs": [],
   "source": [
    "from pathlib import Path\n",
    "import pandas as pd"
   ]
  },
  {
   "cell_type": "code",
   "execution_count": 2,
   "metadata": {},
   "outputs": [
    {
     "data": {
      "text/plain": [
       "user_id    object\n",
       "stars        int8\n",
       "text       object\n",
       "dtype: object"
      ]
     },
     "execution_count": 2,
     "metadata": {},
     "output_type": "execute_result"
    }
   ],
   "source": [
    "#create empty dataframe\n",
    "column_names = {\"user_id\":'',\"stars\":int(),\"text\":''}\n",
    "review_df = pd.DataFrame(column_names, index = [])\n",
    "review_df[\"stars\"] = review_df[\"stars\"].astype(\"int8\")\n",
    "review_df.dtypes"
   ]
  },
  {
   "cell_type": "code",
   "execution_count": 3,
   "metadata": {},
   "outputs": [
    {
     "name": "stdout",
     "output_type": "stream",
     "text": [
      "(1000000, 3)\n"
     ]
    }
   ],
   "source": [
    "review_path = Path(r\"D:\\yelp_data\\yelp_academic_dataset_review.json\")\n",
    "review_holder = pd.read_json(review_path,lines = True, orient =\"records\", nrows = 1000000, chunksize=100000)\n",
    "for i in review_holder:\n",
    "    i = i[[\"user_id\",\"stars\",\"text\"]]\n",
    "    review_df = review_df.append(i, ignore_index = True)\n",
    "    review_df[\"stars\"] = review_df[\"stars\"].astype(\"int8\")\n",
    "print(review_df.shape)"
   ]
  },
  {
   "cell_type": "code",
   "execution_count": 4,
   "metadata": {},
   "outputs": [
    {
     "data": {
      "text/html": [
       "<div>\n",
       "<style scoped>\n",
       "    .dataframe tbody tr th:only-of-type {\n",
       "        vertical-align: middle;\n",
       "    }\n",
       "\n",
       "    .dataframe tbody tr th {\n",
       "        vertical-align: top;\n",
       "    }\n",
       "\n",
       "    .dataframe thead th {\n",
       "        text-align: right;\n",
       "    }\n",
       "</style>\n",
       "<table border=\"1\" class=\"dataframe\">\n",
       "  <thead>\n",
       "    <tr style=\"text-align: right;\">\n",
       "      <th></th>\n",
       "      <th>user_id</th>\n",
       "      <th>stars</th>\n",
       "      <th>text</th>\n",
       "    </tr>\n",
       "  </thead>\n",
       "  <tbody>\n",
       "    <tr>\n",
       "      <th>0</th>\n",
       "      <td>ak0TdVmGKo4pwqdJSTLwWw</td>\n",
       "      <td>4</td>\n",
       "      <td>Apparently Prides Osteria had a rough summer a...</td>\n",
       "    </tr>\n",
       "    <tr>\n",
       "      <th>1</th>\n",
       "      <td>YoVfDbnISlW0f7abNQACIg</td>\n",
       "      <td>4</td>\n",
       "      <td>This store is pretty good. Not as great as Wal...</td>\n",
       "    </tr>\n",
       "    <tr>\n",
       "      <th>2</th>\n",
       "      <td>eC5evKn1TWDyHCyQAwguUw</td>\n",
       "      <td>5</td>\n",
       "      <td>I called WVM on the recommendation of a couple...</td>\n",
       "    </tr>\n",
       "    <tr>\n",
       "      <th>3</th>\n",
       "      <td>SFQ1jcnGguO0LYWnbbftAA</td>\n",
       "      <td>2</td>\n",
       "      <td>I've stayed at many Marriott and Renaissance M...</td>\n",
       "    </tr>\n",
       "    <tr>\n",
       "      <th>4</th>\n",
       "      <td>0kA0PAJ8QFMeveQWHFqz2A</td>\n",
       "      <td>4</td>\n",
       "      <td>The food is always great here. The service fro...</td>\n",
       "    </tr>\n",
       "  </tbody>\n",
       "</table>\n",
       "</div>"
      ],
      "text/plain": [
       "                  user_id  stars  \\\n",
       "0  ak0TdVmGKo4pwqdJSTLwWw      4   \n",
       "1  YoVfDbnISlW0f7abNQACIg      4   \n",
       "2  eC5evKn1TWDyHCyQAwguUw      5   \n",
       "3  SFQ1jcnGguO0LYWnbbftAA      2   \n",
       "4  0kA0PAJ8QFMeveQWHFqz2A      4   \n",
       "\n",
       "                                                text  \n",
       "0  Apparently Prides Osteria had a rough summer a...  \n",
       "1  This store is pretty good. Not as great as Wal...  \n",
       "2  I called WVM on the recommendation of a couple...  \n",
       "3  I've stayed at many Marriott and Renaissance M...  \n",
       "4  The food is always great here. The service fro...  "
      ]
     },
     "execution_count": 4,
     "metadata": {},
     "output_type": "execute_result"
    }
   ],
   "source": [
    "review_df.head()"
   ]
  },
  {
   "cell_type": "code",
   "execution_count": 5,
   "metadata": {},
   "outputs": [
    {
     "data": {
      "text/plain": [
       "user_id    object\n",
       "stars        int8\n",
       "text       object\n",
       "dtype: object"
      ]
     },
     "execution_count": 5,
     "metadata": {},
     "output_type": "execute_result"
    }
   ],
   "source": [
    "review_df.dtypes"
   ]
  },
  {
   "cell_type": "code",
   "execution_count": 6,
   "metadata": {},
   "outputs": [
    {
     "data": {
      "text/plain": [
       "Index          128\n",
       "user_id    8000000\n",
       "stars      1000000\n",
       "text       8000000\n",
       "dtype: int64"
      ]
     },
     "execution_count": 6,
     "metadata": {},
     "output_type": "execute_result"
    }
   ],
   "source": [
    "review_df.memory_usage()"
   ]
  },
  {
   "cell_type": "code",
   "execution_count": 7,
   "metadata": {},
   "outputs": [
    {
     "data": {
      "text/plain": [
       "17000128"
      ]
     },
     "execution_count": 7,
     "metadata": {},
     "output_type": "execute_result"
    }
   ],
   "source": [
    "review_df.memory_usage().sum()"
   ]
  },
  {
   "cell_type": "code",
   "execution_count": 13,
   "metadata": {},
   "outputs": [
    {
     "name": "stdout",
     "output_type": "stream",
     "text": [
      "(29115, 3)\n"
     ]
    },
    {
     "data": {
      "text/html": [
       "<div>\n",
       "<style scoped>\n",
       "    .dataframe tbody tr th:only-of-type {\n",
       "        vertical-align: middle;\n",
       "    }\n",
       "\n",
       "    .dataframe tbody tr th {\n",
       "        vertical-align: top;\n",
       "    }\n",
       "\n",
       "    .dataframe thead th {\n",
       "        text-align: right;\n",
       "    }\n",
       "</style>\n",
       "<table border=\"1\" class=\"dataframe\">\n",
       "  <thead>\n",
       "    <tr style=\"text-align: right;\">\n",
       "      <th></th>\n",
       "      <th>sum</th>\n",
       "      <th>count</th>\n",
       "      <th>average_score</th>\n",
       "    </tr>\n",
       "    <tr>\n",
       "      <th>user_id</th>\n",
       "      <th></th>\n",
       "      <th></th>\n",
       "      <th></th>\n",
       "    </tr>\n",
       "  </thead>\n",
       "  <tbody>\n",
       "    <tr>\n",
       "      <th>--3l8wysfp49Z2TLnyT0vg</th>\n",
       "      <td>19.0</td>\n",
       "      <td>6</td>\n",
       "      <td>3.166667</td>\n",
       "    </tr>\n",
       "    <tr>\n",
       "      <th>--Cq0V6vgQQDU8oQEa0NGQ</th>\n",
       "      <td>25.0</td>\n",
       "      <td>6</td>\n",
       "      <td>4.166667</td>\n",
       "    </tr>\n",
       "    <tr>\n",
       "      <th>--u09WAjW741FdfkJXxNmg</th>\n",
       "      <td>49.0</td>\n",
       "      <td>12</td>\n",
       "      <td>4.083333</td>\n",
       "    </tr>\n",
       "    <tr>\n",
       "      <th>-012EkqHKaqTS3ARkcgavw</th>\n",
       "      <td>16.0</td>\n",
       "      <td>5</td>\n",
       "      <td>3.200000</td>\n",
       "    </tr>\n",
       "    <tr>\n",
       "      <th>-0AyZxS5C--WySnbW_Q8yQ</th>\n",
       "      <td>23.0</td>\n",
       "      <td>5</td>\n",
       "      <td>4.600000</td>\n",
       "    </tr>\n",
       "  </tbody>\n",
       "</table>\n",
       "</div>"
      ],
      "text/plain": [
       "                         sum  count  average_score\n",
       "user_id                                           \n",
       "--3l8wysfp49Z2TLnyT0vg  19.0      6       3.166667\n",
       "--Cq0V6vgQQDU8oQEa0NGQ  25.0      6       4.166667\n",
       "--u09WAjW741FdfkJXxNmg  49.0     12       4.083333\n",
       "-012EkqHKaqTS3ARkcgavw  16.0      5       3.200000\n",
       "-0AyZxS5C--WySnbW_Q8yQ  23.0      5       4.600000"
      ]
     },
     "execution_count": 13,
     "metadata": {},
     "output_type": "execute_result"
    }
   ],
   "source": [
    "#review number of unique users, find those who have 5 or more reviews\n",
    "user_summary = review_df.groupby(\"user_id\").agg({'stars':['sum','count']}).droplevel(level=0, axis =1)\n",
    "user_summary= user_summary.loc[user_summary['count'] > 4]\n",
    "user_summary[\"average_score\"] = user_summary[\"sum\"]/user_summary[\"count\"]\n",
    "print(user_summary.shape)\n",
    "user_summary.head()"
   ]
  },
  {
   "cell_type": "code",
   "execution_count": 14,
   "metadata": {},
   "outputs": [
    {
     "data": {
      "text/plain": [
       "(293754, 4)"
      ]
     },
     "execution_count": 14,
     "metadata": {},
     "output_type": "execute_result"
    }
   ],
   "source": [
    "#modify main DF to get those with more than 5 reviews\n",
    "review_df = review_df.join(user_summary[\"average_score\"], how = \"inner\", on = \"user_id\")\n",
    "review_df.shape"
   ]
  },
  {
   "cell_type": "code",
   "execution_count": 17,
   "metadata": {},
   "outputs": [
    {
     "name": "stdout",
     "output_type": "stream",
     "text": [
      "(1179, 3)\n"
     ]
    },
    {
     "data": {
      "text/html": [
       "<div>\n",
       "<style scoped>\n",
       "    .dataframe tbody tr th:only-of-type {\n",
       "        vertical-align: middle;\n",
       "    }\n",
       "\n",
       "    .dataframe tbody tr th {\n",
       "        vertical-align: top;\n",
       "    }\n",
       "\n",
       "    .dataframe thead th {\n",
       "        text-align: right;\n",
       "    }\n",
       "</style>\n",
       "<table border=\"1\" class=\"dataframe\">\n",
       "  <thead>\n",
       "    <tr style=\"text-align: right;\">\n",
       "      <th></th>\n",
       "      <th>sum</th>\n",
       "      <th>count</th>\n",
       "      <th>average_score</th>\n",
       "    </tr>\n",
       "    <tr>\n",
       "      <th>user_id</th>\n",
       "      <th></th>\n",
       "      <th></th>\n",
       "      <th></th>\n",
       "    </tr>\n",
       "  </thead>\n",
       "  <tbody>\n",
       "    <tr>\n",
       "      <th>-4HoJxvbaytZ_wXES6-sJg</th>\n",
       "      <td>11.0</td>\n",
       "      <td>5</td>\n",
       "      <td>2.200000</td>\n",
       "    </tr>\n",
       "    <tr>\n",
       "      <th>-DQG0iQsVjjvDbbc1-VvMg</th>\n",
       "      <td>10.0</td>\n",
       "      <td>5</td>\n",
       "      <td>2.000000</td>\n",
       "    </tr>\n",
       "    <tr>\n",
       "      <th>-Dz9WQ6UpS8VyXOhn2z86Q</th>\n",
       "      <td>14.0</td>\n",
       "      <td>6</td>\n",
       "      <td>2.333333</td>\n",
       "    </tr>\n",
       "    <tr>\n",
       "      <th>-GTDgCPa0LkoDBATv4Qptw</th>\n",
       "      <td>9.0</td>\n",
       "      <td>5</td>\n",
       "      <td>1.800000</td>\n",
       "    </tr>\n",
       "    <tr>\n",
       "      <th>-NfBbOl6rKw2zVMewfZY5A</th>\n",
       "      <td>12.0</td>\n",
       "      <td>5</td>\n",
       "      <td>2.400000</td>\n",
       "    </tr>\n",
       "  </tbody>\n",
       "</table>\n",
       "</div>"
      ],
      "text/plain": [
       "                         sum  count  average_score\n",
       "user_id                                           \n",
       "-4HoJxvbaytZ_wXES6-sJg  11.0      5       2.200000\n",
       "-DQG0iQsVjjvDbbc1-VvMg  10.0      5       2.000000\n",
       "-Dz9WQ6UpS8VyXOhn2z86Q  14.0      6       2.333333\n",
       "-GTDgCPa0LkoDBATv4Qptw   9.0      5       1.800000\n",
       "-NfBbOl6rKw2zVMewfZY5A  12.0      5       2.400000"
      ]
     },
     "execution_count": 17,
     "metadata": {},
     "output_type": "execute_result"
    }
   ],
   "source": [
    "#look at low average score reviewers\n",
    "low_reviewers = user_summary.loc[user_summary[\"average_score\"] < 2.5]\n",
    "print(low_reviewers.shape)\n",
    "low_reviewers.head()"
   ]
  }
 ],
 "metadata": {
  "interpreter": {
   "hash": "c0dc138e65a70cb647ce1a270252e71b4bdb55bc5aa19cfa73732b492b7cbef2"
  },
  "kernelspec": {
   "display_name": "Python 3.8.8 ('base')",
   "language": "python",
   "name": "python3"
  },
  "language_info": {
   "codemirror_mode": {
    "name": "ipython",
    "version": 3
   },
   "file_extension": ".py",
   "mimetype": "text/x-python",
   "name": "python",
   "nbconvert_exporter": "python",
   "pygments_lexer": "ipython3",
   "version": "3.8.8"
  },
  "orig_nbformat": 4
 },
 "nbformat": 4,
 "nbformat_minor": 2
}
