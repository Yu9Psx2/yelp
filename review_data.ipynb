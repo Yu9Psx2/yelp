{
 "cells": [
  {
   "cell_type": "markdown",
   "metadata": {},
   "source": [
    "## Workbook seeks to create a list of users who usually leave ratings less than 2.5 stars"
   ]
  },
  {
   "cell_type": "code",
   "execution_count": null,
   "metadata": {},
   "outputs": [],
   "source": [
    "from pathlib import Path\n",
    "import pandas as pd"
   ]
  },
  {
   "cell_type": "code",
   "execution_count": 2,
   "metadata": {},
   "outputs": [
    {
     "data": {
      "text/plain": [
       "user_id        object\n",
       "stars            int8\n",
       "text           object\n",
       "business_id    object\n",
       "dtype: object"
      ]
     },
     "execution_count": 2,
     "metadata": {},
     "output_type": "execute_result"
    }
   ],
   "source": [
    "#create empty dataframe\n",
    "column_names = {\"user_id\":'',\"stars\":int(),\"text\":'',\"business_id\":''}\n",
    "review_df = pd.DataFrame(column_names, index = [])\n",
    "review_df[\"stars\"] = review_df[\"stars\"].astype(\"int8\")\n",
    "review_df.dtypes"
   ]
  },
  {
   "cell_type": "code",
   "execution_count": 3,
   "metadata": {},
   "outputs": [
    {
     "name": "stdout",
     "output_type": "stream",
     "text": [
      "(4000000, 4)\n"
     ]
    }
   ],
   "source": [
    "#Load data from JSON file using nrows and chunksize to limit amount of data in memory at any particular time\n",
    "review_path = Path(r\"D:\\yelp_data\\yelp_academic_dataset_review.json\")\n",
    "review_holder = pd.read_json(review_path,lines = True, orient =\"records\", nrows = 4000000, chunksize=10000)\n",
    "for i in review_holder:\n",
    "    i = i[[\"user_id\",\"stars\",\"text\",\"business_id\"]]\n",
    "    review_df = review_df.append(i, ignore_index = True)\n",
    "    review_df[\"stars\"] = review_df[\"stars\"].astype(\"int8\")\n",
    "print(review_df.shape)"
   ]
  },
  {
   "cell_type": "code",
   "execution_count": 4,
   "metadata": {},
   "outputs": [
    {
     "data": {
      "text/html": [
       "<div>\n",
       "<style scoped>\n",
       "    .dataframe tbody tr th:only-of-type {\n",
       "        vertical-align: middle;\n",
       "    }\n",
       "\n",
       "    .dataframe tbody tr th {\n",
       "        vertical-align: top;\n",
       "    }\n",
       "\n",
       "    .dataframe thead th {\n",
       "        text-align: right;\n",
       "    }\n",
       "</style>\n",
       "<table border=\"1\" class=\"dataframe\">\n",
       "  <thead>\n",
       "    <tr style=\"text-align: right;\">\n",
       "      <th></th>\n",
       "      <th>user_id</th>\n",
       "      <th>stars</th>\n",
       "      <th>text</th>\n",
       "      <th>business_id</th>\n",
       "    </tr>\n",
       "  </thead>\n",
       "  <tbody>\n",
       "    <tr>\n",
       "      <th>0</th>\n",
       "      <td>ak0TdVmGKo4pwqdJSTLwWw</td>\n",
       "      <td>4</td>\n",
       "      <td>Apparently Prides Osteria had a rough summer a...</td>\n",
       "      <td>buF9druCkbuXLX526sGELQ</td>\n",
       "    </tr>\n",
       "    <tr>\n",
       "      <th>1</th>\n",
       "      <td>YoVfDbnISlW0f7abNQACIg</td>\n",
       "      <td>4</td>\n",
       "      <td>This store is pretty good. Not as great as Wal...</td>\n",
       "      <td>RA4V8pr014UyUbDvI-LW2A</td>\n",
       "    </tr>\n",
       "    <tr>\n",
       "      <th>2</th>\n",
       "      <td>eC5evKn1TWDyHCyQAwguUw</td>\n",
       "      <td>5</td>\n",
       "      <td>I called WVM on the recommendation of a couple...</td>\n",
       "      <td>_sS2LBIGNT5NQb6PD1Vtjw</td>\n",
       "    </tr>\n",
       "    <tr>\n",
       "      <th>3</th>\n",
       "      <td>SFQ1jcnGguO0LYWnbbftAA</td>\n",
       "      <td>2</td>\n",
       "      <td>I've stayed at many Marriott and Renaissance M...</td>\n",
       "      <td>0AzLzHfOJgL7ROwhdww2ew</td>\n",
       "    </tr>\n",
       "    <tr>\n",
       "      <th>4</th>\n",
       "      <td>0kA0PAJ8QFMeveQWHFqz2A</td>\n",
       "      <td>4</td>\n",
       "      <td>The food is always great here. The service fro...</td>\n",
       "      <td>8zehGz9jnxPqXtOc7KaJxA</td>\n",
       "    </tr>\n",
       "  </tbody>\n",
       "</table>\n",
       "</div>"
      ],
      "text/plain": [
       "                  user_id  stars  \\\n",
       "0  ak0TdVmGKo4pwqdJSTLwWw      4   \n",
       "1  YoVfDbnISlW0f7abNQACIg      4   \n",
       "2  eC5evKn1TWDyHCyQAwguUw      5   \n",
       "3  SFQ1jcnGguO0LYWnbbftAA      2   \n",
       "4  0kA0PAJ8QFMeveQWHFqz2A      4   \n",
       "\n",
       "                                                text             business_id  \n",
       "0  Apparently Prides Osteria had a rough summer a...  buF9druCkbuXLX526sGELQ  \n",
       "1  This store is pretty good. Not as great as Wal...  RA4V8pr014UyUbDvI-LW2A  \n",
       "2  I called WVM on the recommendation of a couple...  _sS2LBIGNT5NQb6PD1Vtjw  \n",
       "3  I've stayed at many Marriott and Renaissance M...  0AzLzHfOJgL7ROwhdww2ew  \n",
       "4  The food is always great here. The service fro...  8zehGz9jnxPqXtOc7KaJxA  "
      ]
     },
     "execution_count": 4,
     "metadata": {},
     "output_type": "execute_result"
    }
   ],
   "source": [
    "review_df.head()"
   ]
  },
  {
   "cell_type": "code",
   "execution_count": 5,
   "metadata": {},
   "outputs": [
    {
     "data": {
      "text/plain": [
       "user_id        object\n",
       "stars            int8\n",
       "text           object\n",
       "business_id    object\n",
       "dtype: object"
      ]
     },
     "execution_count": 5,
     "metadata": {},
     "output_type": "execute_result"
    }
   ],
   "source": [
    "review_df.dtypes"
   ]
  },
  {
   "cell_type": "code",
   "execution_count": 6,
   "metadata": {},
   "outputs": [
    {
     "data": {
      "text/plain": [
       "Index               128\n",
       "user_id        32000000\n",
       "stars           4000000\n",
       "text           32000000\n",
       "business_id    32000000\n",
       "dtype: int64"
      ]
     },
     "execution_count": 6,
     "metadata": {},
     "output_type": "execute_result"
    }
   ],
   "source": [
    "#Explore the memory usage of the data frame\n",
    "review_df.memory_usage()"
   ]
  },
  {
   "cell_type": "code",
   "execution_count": 7,
   "metadata": {},
   "outputs": [
    {
     "data": {
      "text/plain": [
       "100000128"
      ]
     },
     "execution_count": 7,
     "metadata": {},
     "output_type": "execute_result"
    }
   ],
   "source": [
    "review_df.memory_usage().sum()"
   ]
  },
  {
   "cell_type": "code",
   "execution_count": 8,
   "metadata": {},
   "outputs": [
    {
     "name": "stdout",
     "output_type": "stream",
     "text": [
      "(164351, 3)\n"
     ]
    },
    {
     "data": {
      "text/html": [
       "<div>\n",
       "<style scoped>\n",
       "    .dataframe tbody tr th:only-of-type {\n",
       "        vertical-align: middle;\n",
       "    }\n",
       "\n",
       "    .dataframe tbody tr th {\n",
       "        vertical-align: top;\n",
       "    }\n",
       "\n",
       "    .dataframe thead th {\n",
       "        text-align: right;\n",
       "    }\n",
       "</style>\n",
       "<table border=\"1\" class=\"dataframe\">\n",
       "  <thead>\n",
       "    <tr style=\"text-align: right;\">\n",
       "      <th></th>\n",
       "      <th>sum</th>\n",
       "      <th>count</th>\n",
       "      <th>average_score</th>\n",
       "    </tr>\n",
       "    <tr>\n",
       "      <th>user_id</th>\n",
       "      <th></th>\n",
       "      <th></th>\n",
       "      <th></th>\n",
       "    </tr>\n",
       "  </thead>\n",
       "  <tbody>\n",
       "    <tr>\n",
       "      <th>--1ZsAsSdoqgoZZTYjsuiw</th>\n",
       "      <td>34.0</td>\n",
       "      <td>8</td>\n",
       "      <td>4.250000</td>\n",
       "    </tr>\n",
       "    <tr>\n",
       "      <th>--1orhUoGFSdHXsoxqQc8g</th>\n",
       "      <td>28.0</td>\n",
       "      <td>7</td>\n",
       "      <td>4.000000</td>\n",
       "    </tr>\n",
       "    <tr>\n",
       "      <th>--2PnhMMH7EYoY3wywOvgQ</th>\n",
       "      <td>29.0</td>\n",
       "      <td>6</td>\n",
       "      <td>4.833333</td>\n",
       "    </tr>\n",
       "    <tr>\n",
       "      <th>--2vR0DIsmQ6WfcSzKWigw</th>\n",
       "      <td>69.0</td>\n",
       "      <td>16</td>\n",
       "      <td>4.312500</td>\n",
       "    </tr>\n",
       "    <tr>\n",
       "      <th>--3HptO9LVPn1yTS973M_Q</th>\n",
       "      <td>25.0</td>\n",
       "      <td>7</td>\n",
       "      <td>3.571429</td>\n",
       "    </tr>\n",
       "  </tbody>\n",
       "</table>\n",
       "</div>"
      ],
      "text/plain": [
       "                         sum  count  average_score\n",
       "user_id                                           \n",
       "--1ZsAsSdoqgoZZTYjsuiw  34.0      8       4.250000\n",
       "--1orhUoGFSdHXsoxqQc8g  28.0      7       4.000000\n",
       "--2PnhMMH7EYoY3wywOvgQ  29.0      6       4.833333\n",
       "--2vR0DIsmQ6WfcSzKWigw  69.0     16       4.312500\n",
       "--3HptO9LVPn1yTS973M_Q  25.0      7       3.571429"
      ]
     },
     "execution_count": 8,
     "metadata": {},
     "output_type": "execute_result"
    }
   ],
   "source": [
    "#review number of unique users, find those who have 5 or more reviews\n",
    "user_summary = review_df.groupby(\"user_id\").agg({'stars':['sum','count']}).droplevel(level=0, axis =1)\n",
    "user_summary= user_summary.loc[user_summary['count'] > 4]\n",
    "user_summary[\"average_score\"] = user_summary[\"sum\"]/user_summary[\"count\"]\n",
    "print(user_summary.shape)\n",
    "user_summary.head()"
   ]
  },
  {
   "cell_type": "code",
   "execution_count": 9,
   "metadata": {},
   "outputs": [
    {
     "data": {
      "text/plain": [
       "(2151428, 5)"
      ]
     },
     "execution_count": 9,
     "metadata": {},
     "output_type": "execute_result"
    }
   ],
   "source": [
    "#modify main DF to get those with more than 5 reviews\n",
    "review_df = review_df.join(user_summary[\"average_score\"], how = \"inner\", on = \"user_id\")\n",
    "review_df.shape"
   ]
  },
  {
   "cell_type": "code",
   "execution_count": 10,
   "metadata": {},
   "outputs": [
    {
     "name": "stdout",
     "output_type": "stream",
     "text": [
      "(9042, 3)\n"
     ]
    },
    {
     "data": {
      "text/html": [
       "<div>\n",
       "<style scoped>\n",
       "    .dataframe tbody tr th:only-of-type {\n",
       "        vertical-align: middle;\n",
       "    }\n",
       "\n",
       "    .dataframe tbody tr th {\n",
       "        vertical-align: top;\n",
       "    }\n",
       "\n",
       "    .dataframe thead th {\n",
       "        text-align: right;\n",
       "    }\n",
       "</style>\n",
       "<table border=\"1\" class=\"dataframe\">\n",
       "  <thead>\n",
       "    <tr style=\"text-align: right;\">\n",
       "      <th></th>\n",
       "      <th>sum</th>\n",
       "      <th>count</th>\n",
       "      <th>average_score</th>\n",
       "    </tr>\n",
       "    <tr>\n",
       "      <th>user_id</th>\n",
       "      <th></th>\n",
       "      <th></th>\n",
       "      <th></th>\n",
       "    </tr>\n",
       "  </thead>\n",
       "  <tbody>\n",
       "    <tr>\n",
       "      <th>--xfUH1hLFKLmOBt7M6iOA</th>\n",
       "      <td>20.0</td>\n",
       "      <td>9</td>\n",
       "      <td>2.222222</td>\n",
       "    </tr>\n",
       "    <tr>\n",
       "      <th>-0PvPYV-Eph7oRQLgWCfGQ</th>\n",
       "      <td>24.0</td>\n",
       "      <td>10</td>\n",
       "      <td>2.400000</td>\n",
       "    </tr>\n",
       "    <tr>\n",
       "      <th>-1XzBP763xlH0-D-cyyTgw</th>\n",
       "      <td>14.0</td>\n",
       "      <td>6</td>\n",
       "      <td>2.333333</td>\n",
       "    </tr>\n",
       "    <tr>\n",
       "      <th>-1hn92IDutY6EXdlJW1urQ</th>\n",
       "      <td>22.0</td>\n",
       "      <td>11</td>\n",
       "      <td>2.000000</td>\n",
       "    </tr>\n",
       "    <tr>\n",
       "      <th>-1sghQnxvMPUlmIBIosKOQ</th>\n",
       "      <td>9.0</td>\n",
       "      <td>5</td>\n",
       "      <td>1.800000</td>\n",
       "    </tr>\n",
       "  </tbody>\n",
       "</table>\n",
       "</div>"
      ],
      "text/plain": [
       "                         sum  count  average_score\n",
       "user_id                                           \n",
       "--xfUH1hLFKLmOBt7M6iOA  20.0      9       2.222222\n",
       "-0PvPYV-Eph7oRQLgWCfGQ  24.0     10       2.400000\n",
       "-1XzBP763xlH0-D-cyyTgw  14.0      6       2.333333\n",
       "-1hn92IDutY6EXdlJW1urQ  22.0     11       2.000000\n",
       "-1sghQnxvMPUlmIBIosKOQ   9.0      5       1.800000"
      ]
     },
     "execution_count": 10,
     "metadata": {},
     "output_type": "execute_result"
    }
   ],
   "source": [
    "#look at low average score reviewers\n",
    "low_reviewers = user_summary.loc[user_summary[\"average_score\"] < 2.5]\n",
    "print(low_reviewers.shape)\n",
    "low_reviewers.head()"
   ]
  }
 ],
 "metadata": {
  "interpreter": {
   "hash": "c0dc138e65a70cb647ce1a270252e71b4bdb55bc5aa19cfa73732b492b7cbef2"
  },
  "kernelspec": {
   "display_name": "Python 3.8.8 ('base')",
   "language": "python",
   "name": "python3"
  },
  "language_info": {
   "codemirror_mode": {
    "name": "ipython",
    "version": 3
   },
   "file_extension": ".py",
   "mimetype": "text/x-python",
   "name": "python",
   "nbconvert_exporter": "python",
   "pygments_lexer": "ipython3",
   "version": "3.8.8"
  },
  "orig_nbformat": 4
 },
 "nbformat": 4,
 "nbformat_minor": 2
}
